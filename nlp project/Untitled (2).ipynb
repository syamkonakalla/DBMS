{
 "cells": [
  {
   "cell_type": "code",
   "execution_count": 1,
   "id": "69ba4297",
   "metadata": {},
   "outputs": [],
   "source": [
    "import pandas as pd\n",
    "import numpy as np\n",
    "from anytree import Node, RenderTree"
   ]
  },
  {
   "cell_type": "code",
   "execution_count": 2,
   "id": "c9ff06da",
   "metadata": {},
   "outputs": [],
   "source": [
    "mydata={'id':[0] ,'code': ['''#include <stdio.h>\n",
    "int main() {   \n",
    "    int number;\n",
    "   \n",
    "    printf(\"Enter an integer: \");  \n",
    "    \n",
    "    // reads and stores input\n",
    "    scanf(\"%d\", &number);\n",
    "\n",
    "    // displays output\n",
    "    printf(\"You entered: %d\", number);\n",
    "    \n",
    "    return 0;\n",
    "}'''],'question':['np.nan']}"
   ]
  },
  {
   "cell_type": "code",
   "execution_count": 3,
   "id": "eed4ac86",
   "metadata": {},
   "outputs": [],
   "source": [
    "df = pd.DataFrame(mydata)"
   ]
  },
  {
   "cell_type": "code",
   "execution_count": 4,
   "id": "183014f6",
   "metadata": {},
   "outputs": [
    {
     "data": {
      "text/html": [
       "<div>\n",
       "<style scoped>\n",
       "    .dataframe tbody tr th:only-of-type {\n",
       "        vertical-align: middle;\n",
       "    }\n",
       "\n",
       "    .dataframe tbody tr th {\n",
       "        vertical-align: top;\n",
       "    }\n",
       "\n",
       "    .dataframe thead th {\n",
       "        text-align: right;\n",
       "    }\n",
       "</style>\n",
       "<table border=\"1\" class=\"dataframe\">\n",
       "  <thead>\n",
       "    <tr style=\"text-align: right;\">\n",
       "      <th></th>\n",
       "      <th>id</th>\n",
       "      <th>code</th>\n",
       "      <th>question</th>\n",
       "    </tr>\n",
       "  </thead>\n",
       "  <tbody>\n",
       "    <tr>\n",
       "      <th>0</th>\n",
       "      <td>0</td>\n",
       "      <td>#include &lt;stdio.h&gt;\\nint main() {   \\n    int n...</td>\n",
       "      <td>np.nan</td>\n",
       "    </tr>\n",
       "  </tbody>\n",
       "</table>\n",
       "</div>"
      ],
      "text/plain": [
       "   id                                               code question\n",
       "0   0  #include <stdio.h>\\nint main() {   \\n    int n...   np.nan"
      ]
     },
     "execution_count": 4,
     "metadata": {},
     "output_type": "execute_result"
    }
   ],
   "source": [
    "df"
   ]
  },
  {
   "cell_type": "code",
   "execution_count": 5,
   "id": "e07d396c",
   "metadata": {},
   "outputs": [],
   "source": [
    "with open('a.c', 'a') as fp:\n",
    "    fp.write(df.code[0])"
   ]
  },
  {
   "cell_type": "code",
   "execution_count": 6,
   "id": "734c6bae",
   "metadata": {},
   "outputs": [],
   "source": [
    "Keywords=['auto','break','case','char','const','continue','default','do','double','else','enum','extern','float','for','goto',\n",
    "          'if','int','long','register','return','short','signed','sizeof','static','struct','switch','typedef','union','unsigned',\n",
    "          'void','volatile','while']"
   ]
  },
  {
   "cell_type": "code",
   "execution_count": 7,
   "id": "5c327729",
   "metadata": {},
   "outputs": [
    {
     "data": {
      "text/plain": [
       "32"
      ]
     },
     "execution_count": 7,
     "metadata": {},
     "output_type": "execute_result"
    }
   ],
   "source": [
    "len(Keywords)"
   ]
  },
  {
   "cell_type": "code",
   "execution_count": 9,
   "id": "f3a0f58d",
   "metadata": {},
   "outputs": [],
   "source": [
    "keywords = Node(\"keywords\")\n",
    "DataTypes = Node(\"DataTypes\", parent=keywords)\n",
    "Modifiers = Node(\"Modifiers\", parent=keywords)\n",
    "Qualifiers = Node(\"Qualifiers\", parent=keywords)\n",
    "Loops = Node(\"Loops\", parent=keywords)\n",
    "Jump = Node(\"Jump\", parent=keywords)\n",
    "Decision = Node(\"Decision\", parent=keywords)\n",
    "StorageClass = Node(\"Storage Class\", parent=keywords)\n",
    "Derived = Node(\"Derived\", parent=keywords)\n",
    "UserDefined = Node(\"User Defined\", parent=keywords)\n",
    "others = Node(\"others\", parent=keywords)\n",
    "char = Node(\"char\",parent=DataTypes)\n",
    "Int = Node(\"int\",parent=DataTypes)\n",
    "Float = Node(\"float\",parent=DataTypes)\n",
    "Double = Node(\"double\",parent=DataTypes)\n",
    "signed = Node(\"signed\",parent=Modifiers)\n",
    "unsigned = Node(\"unsigned\",parent=Modifiers)\n",
    "short = Node(\"short\",parent=Modifiers)\n",
    "long = Node(\"long\",parent=Modifiers)\n",
    "const = Node('const',parent=Qualifiers)\n",
    "volatile =Node('volatile',parent=Qualifiers)\n",
    "For = Node('For',parent=Loops )\n",
    "While =Node('While',parent =Loops)\n",
    "do = Node('do',parent = Loops)\n",
    "goto = Node('goto',parent=Jump)\n",
    "Break = Node('break',parent=Jump)\n",
    "Continue = Node('continue',parent=Jump)\n",
    "If = Node('If',parent=Decision)\n",
    "Else =Node('Else',parent=Decision)\n",
    "switch = Node('switch',parent=Decision)\n",
    "case = Node('case',parent=Decision)\n",
    "default = Node('default',parent=Decision)\n",
    "auto = Node('auto',parent=StorageClass)\n",
    "register = Node('register',parent=StorageClass)\n",
    "static = Node('static',parent=StorageClass)\n",
    "extern = Node('extern ',parent=StorageClass)\n",
    "struct = Node('struct',parent=Derived) \n",
    "union = Node('union',parent=Derived)\n",
    "enum = Node('enum',parent=UserDefined)\n",
    "typedef = Node('typedef',parent=UserDefined)\n",
    "void = Node('void',parent = others)\n",
    "Return = Node('Return',parent = others)\n",
    "sizeof = Node('sizeof',parent = others)"
   ]
  },
  {
   "cell_type": "code",
   "execution_count": 10,
   "id": "a520367c",
   "metadata": {},
   "outputs": [
    {
     "name": "stdout",
     "output_type": "stream",
     "text": [
      "keywords\n",
      "├── DataTypes\n",
      "│   ├── char\n",
      "│   ├── int\n",
      "│   ├── float\n",
      "│   └── double\n",
      "├── Modifiers\n",
      "│   ├── signed\n",
      "│   ├── unsigned\n",
      "│   ├── short\n",
      "│   └── long\n",
      "├── Qualifiers\n",
      "│   ├── const\n",
      "│   └── volatile\n",
      "├── Loops\n",
      "│   ├── For\n",
      "│   ├── While\n",
      "│   └── do\n",
      "├── Jump\n",
      "│   ├── goto\n",
      "│   ├── break\n",
      "│   └── continue\n",
      "├── Decision\n",
      "│   ├── If\n",
      "│   ├── Else\n",
      "│   ├── switch\n",
      "│   ├── case\n",
      "│   └── default\n",
      "├── Storage Class\n",
      "│   ├── auto\n",
      "│   ├── register\n",
      "│   ├── static\n",
      "│   └── extern \n",
      "├── Derived\n",
      "│   ├── struct\n",
      "│   └── union\n",
      "├── User Defined\n",
      "│   ├── enum\n",
      "│   └── typedef\n",
      "└── others\n",
      "    ├── void\n",
      "    ├── Return\n",
      "    └── sizeof\n"
     ]
    }
   ],
   "source": [
    "for pre, fill, node in RenderTree(keywords):\n",
    "    print(\"%s%s\" % (pre, node.name))"
   ]
  },
  {
   "cell_type": "code",
   "execution_count": 15,
   "id": "723865d9",
   "metadata": {},
   "outputs": [
    {
     "name": "stdout",
     "output_type": "stream",
     "text": [
      "Node('/keywords/DataTypes')\n"
     ]
    }
   ],
   "source": [
    "print(Int.parent) "
   ]
  },
  {
   "cell_type": "code",
   "execution_count": 14,
   "id": "64781fa6",
   "metadata": {},
   "outputs": [],
   "source": [
    "df.to_excel('c.xlsx')"
   ]
  },
  {
   "cell_type": "code",
   "execution_count": null,
   "id": "73bc82f3",
   "metadata": {},
   "outputs": [],
   "source": []
  }
 ],
 "metadata": {
  "kernelspec": {
   "display_name": "Python 3",
   "language": "python",
   "name": "python3"
  },
  "language_info": {
   "codemirror_mode": {
    "name": "ipython",
    "version": 3
   },
   "file_extension": ".py",
   "mimetype": "text/x-python",
   "name": "python",
   "nbconvert_exporter": "python",
   "pygments_lexer": "ipython3",
   "version": "3.8.8"
  }
 },
 "nbformat": 4,
 "nbformat_minor": 5
}
